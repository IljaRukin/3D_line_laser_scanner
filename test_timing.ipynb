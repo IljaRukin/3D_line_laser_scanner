{
 "cells": [
  {
   "cell_type": "code",
   "execution_count": 30,
   "id": "837aa6b3",
   "metadata": {},
   "outputs": [],
   "source": [
    "import numpy as np\n",
    "\n",
    "def convolveY(IMG,kernel):\n",
    "    for ind in range(np.size(IMG,0)):\n",
    "        IMG[ind,:] = np.convolve( IMG[ind,:] , kernel ,'same')\n",
    "    return IMG\n",
    "\n",
    "def convolveYt(IMG,kernel):\n",
    "    IMG = IMG.T\n",
    "    for ind in range(np.size(IMG,1)):\n",
    "        IMG[:,ind] = np.convolve( IMG[:,ind] , kernel ,'same')\n",
    "    IMG = IMG.T\n",
    "    return IMG\n",
    "\n",
    "def convolveX(IMG,kernel):\n",
    "    for ind in range(np.size(IMG,1)):\n",
    "        IMG[:,ind] = np.convolve( IMG[:,ind] , kernel ,'same')\n",
    "    return IMG\n",
    "\n",
    "def convolveXt(IMG,kernel):\n",
    "    IMG = IMG.T\n",
    "    for ind in range(np.size(IMG,0)):\n",
    "        IMG[ind,:] = np.convolve( IMG[ind,:] , kernel ,'same')\n",
    "    IMG = IMG.T\n",
    "    return IMG\n",
    "\n",
    "kernelsize = 40\n",
    "sigma = 5\n",
    "gaussian_kernel = 1/(2*np.pi*sigma**2) *np.exp(-(np.arange(kernelsize)-kernelsize/2)**2/(2*sigma**2))\n",
    "IMG = np.random.randn(2000, 2000)\n"
   ]
  },
  {
   "cell_type": "code",
   "execution_count": 39,
   "id": "f662185d",
   "metadata": {},
   "outputs": [
    {
     "name": "stdout",
     "output_type": "stream",
     "text": [
      "6.05 µs ± 842 ns per loop (mean ± std. dev. of 7 runs, 100000 loops each)\n"
     ]
    }
   ],
   "source": [
    "%timeit 1/(2*np.pi*sigma**2) *np.exp(-(np.arange(kernelsize)-kernelsize/2)**2/(2*sigma**2))"
   ]
  },
  {
   "cell_type": "raw",
   "id": "88483725",
   "metadata": {},
   "source": [
    "100x100"
   ]
  },
  {
   "cell_type": "code",
   "execution_count": 21,
   "id": "48507477",
   "metadata": {
    "scrolled": true
   },
   "outputs": [
    {
     "name": "stdout",
     "output_type": "stream",
     "text": [
      "574 µs ± 25.7 µs per loop (mean ± std. dev. of 7 runs, 1000 loops each)\n"
     ]
    }
   ],
   "source": [
    "%timeit convolveY(IMG,gaussian_kernel)"
   ]
  },
  {
   "cell_type": "code",
   "execution_count": 22,
   "id": "ac093812",
   "metadata": {},
   "outputs": [
    {
     "name": "stdout",
     "output_type": "stream",
     "text": [
      "562 µs ± 24.7 µs per loop (mean ± std. dev. of 7 runs, 1000 loops each)\n"
     ]
    }
   ],
   "source": [
    "%timeit convolveYt(IMG,gaussian_kernel)"
   ]
  },
  {
   "cell_type": "code",
   "execution_count": 23,
   "id": "3c857ec2",
   "metadata": {},
   "outputs": [
    {
     "name": "stdout",
     "output_type": "stream",
     "text": [
      "622 µs ± 16.1 µs per loop (mean ± std. dev. of 7 runs, 1000 loops each)\n"
     ]
    }
   ],
   "source": [
    "%timeit convolveX(IMG,gaussian_kernel)"
   ]
  },
  {
   "cell_type": "code",
   "execution_count": 24,
   "id": "61b1170d",
   "metadata": {},
   "outputs": [
    {
     "name": "stdout",
     "output_type": "stream",
     "text": [
      "617 µs ± 16.9 µs per loop (mean ± std. dev. of 7 runs, 1000 loops each)\n"
     ]
    }
   ],
   "source": [
    "%timeit convolveXt(IMG,gaussian_kernel)"
   ]
  },
  {
   "cell_type": "raw",
   "id": "ff6d1e6e",
   "metadata": {},
   "source": [
    "2000x2000"
   ]
  },
  {
   "cell_type": "code",
   "execution_count": 37,
   "id": "bd794320",
   "metadata": {
    "scrolled": true
   },
   "outputs": [
    {
     "name": "stdout",
     "output_type": "stream",
     "text": [
      "110 ms ± 873 µs per loop (mean ± std. dev. of 7 runs, 10 loops each)\n"
     ]
    }
   ],
   "source": [
    "%timeit convolveY(IMG,gaussian_kernel)"
   ]
  },
  {
   "cell_type": "code",
   "execution_count": 38,
   "id": "5e8bb452",
   "metadata": {},
   "outputs": [
    {
     "name": "stdout",
     "output_type": "stream",
     "text": [
      "113 ms ± 8.61 ms per loop (mean ± std. dev. of 7 runs, 10 loops each)\n"
     ]
    }
   ],
   "source": [
    "%timeit convolveYt(IMG,gaussian_kernel)"
   ]
  },
  {
   "cell_type": "code",
   "execution_count": 36,
   "id": "c8c6bcc2",
   "metadata": {},
   "outputs": [
    {
     "name": "stdout",
     "output_type": "stream",
     "text": [
      "176 ms ± 830 µs per loop (mean ± std. dev. of 7 runs, 10 loops each)\n"
     ]
    }
   ],
   "source": [
    "%timeit convolveX(IMG,gaussian_kernel)"
   ]
  },
  {
   "cell_type": "code",
   "execution_count": 35,
   "id": "766909d5",
   "metadata": {},
   "outputs": [
    {
     "name": "stdout",
     "output_type": "stream",
     "text": [
      "174 ms ± 339 µs per loop (mean ± std. dev. of 7 runs, 10 loops each)\n"
     ]
    }
   ],
   "source": [
    "%timeit convolveXt(IMG,gaussian_kernel)"
   ]
  },
  {
   "cell_type": "raw",
   "id": "b0d512ac",
   "metadata": {},
   "source": [
    "10000x10000"
   ]
  },
  {
   "cell_type": "code",
   "execution_count": 26,
   "id": "7cb1c782",
   "metadata": {
    "scrolled": true
   },
   "outputs": [
    {
     "name": "stdout",
     "output_type": "stream",
     "text": [
      "2.49 s ± 11.6 ms per loop (mean ± std. dev. of 7 runs, 1 loop each)\n"
     ]
    }
   ],
   "source": [
    "%timeit convolveY(IMG,gaussian_kernel)"
   ]
  },
  {
   "cell_type": "code",
   "execution_count": 27,
   "id": "60171a05",
   "metadata": {},
   "outputs": [
    {
     "name": "stdout",
     "output_type": "stream",
     "text": [
      "2.51 s ± 20.5 ms per loop (mean ± std. dev. of 7 runs, 1 loop each)\n"
     ]
    }
   ],
   "source": [
    "%timeit convolveYt(IMG,gaussian_kernel)"
   ]
  },
  {
   "cell_type": "code",
   "execution_count": 28,
   "id": "8433c246",
   "metadata": {},
   "outputs": [
    {
     "name": "stdout",
     "output_type": "stream",
     "text": [
      "4.87 s ± 77.6 ms per loop (mean ± std. dev. of 7 runs, 1 loop each)\n"
     ]
    }
   ],
   "source": [
    "%timeit convolveX(IMG,gaussian_kernel)"
   ]
  },
  {
   "cell_type": "code",
   "execution_count": 29,
   "id": "d5c6a8fc",
   "metadata": {},
   "outputs": [
    {
     "name": "stdout",
     "output_type": "stream",
     "text": [
      "4.96 s ± 103 ms per loop (mean ± std. dev. of 7 runs, 1 loop each)\n"
     ]
    }
   ],
   "source": [
    "%timeit convolveXt(IMG,gaussian_kernel)"
   ]
  },
  {
   "cell_type": "code",
   "execution_count": null,
   "id": "7e4af4c5",
   "metadata": {},
   "outputs": [],
   "source": []
  }
 ],
 "metadata": {
  "kernelspec": {
   "display_name": "Python 3",
   "language": "python",
   "name": "python3"
  },
  "language_info": {
   "codemirror_mode": {
    "name": "ipython",
    "version": 3
   },
   "file_extension": ".py",
   "mimetype": "text/x-python",
   "name": "python",
   "nbconvert_exporter": "python",
   "pygments_lexer": "ipython3",
   "version": "3.8.8"
  }
 },
 "nbformat": 4,
 "nbformat_minor": 5
}
