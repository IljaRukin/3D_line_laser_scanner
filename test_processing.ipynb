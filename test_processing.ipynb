{
 "cells": [
  {
   "cell_type": "code",
   "execution_count": 1,
   "id": "3c4b8a49",
   "metadata": {},
   "outputs": [],
   "source": [
    "%reset -f\n",
    "#import numpy as np\n",
    "from numpy import pi as np_pi\n",
    "from numpy import load as np_load\n",
    "from numpy import nditer as np_nditer\n",
    "from numpy import size as np_size\n",
    "from numpy import where as np_where\n",
    "from numpy import nanmean as np_nanmean\n",
    "from numpy import shape as np_shape\n",
    "from numpy import reshape as np_reshape\n",
    "from numpy import exp as np_exp\n",
    "from numpy import cos as np_cos\n",
    "from numpy import sin as np_sin\n",
    "from numpy import empty as np_empty\n",
    "from numpy import full as np_full\n",
    "from numpy import linspace as np_linspace\n",
    "from numpy import arange as np_arange\n",
    "from numpy import multiply as np_multiply\n",
    "from numpy import matmul as np_matmul\n",
    "from numpy import round as np_round\n",
    "from numpy import max as np_max\n",
    "from numpy import min as np_min\n",
    "from numpy import maximum as np_maximum\n",
    "from numpy import argmax as np_argmax\n",
    "from numpy import convolve as np_convolve\n",
    "from numpy import sum as np_sum\n",
    "from numpy import uint8 as np_uint8\n",
    "from numpy import nan as np_nan\n",
    "from numpy import isnan as np_isnan\n",
    "from numpy import float32 as np_float32\n",
    "\n",
    "import matplotlib.pyplot as plt\n",
    "kernelsize = 15\n",
    "sigma = 3"
   ]
  },
  {
   "cell_type": "code",
   "execution_count": 2,
   "id": "98cdcbf8",
   "metadata": {},
   "outputs": [],
   "source": [
    "kernelsize = 15\n",
    "sigma = 3\n",
    "array = (np_arange(kernelsize)-kernelsize/2+0.5)\n",
    "gaussian_kernel = np_exp(-array**2/(2*sigma**2))#*1/np_sqrt(2*np_pi*sigma**2)\n",
    "gaussian_kernel /= np_sum(gaussian_kernel)\n",
    "gaussian_reshaped = np_reshape( gaussian_kernel , [-1,1] )\n",
    "gaussian2D = np_matmul( gaussian_reshaped , gaussian_reshaped.T )\n",
    "del gaussian_reshaped"
   ]
  },
  {
   "cell_type": "code",
   "execution_count": 27,
   "id": "a6d81c35",
   "metadata": {},
   "outputs": [],
   "source": [
    "def gaussian_filter(IMG):\n",
    "    for ind in range(np_size(IMG,0)):\n",
    "        IMG[ind,:] = np_convolve( IMG[ind,:] , gaussian_kernel ,'same')\n",
    "    for ind in range(np_size(IMG,1)):\n",
    "        IMG[:,ind] = np_convolve( IMG[:,ind] , gaussian_kernel ,'same')\n",
    "    return IMG\n",
    "\n",
    "def find_maxima_peak(redIMG):\n",
    "    dim = np_shape(redIMG)\n",
    "    maxima = np_full(dim[0],np_nan, dtype=np_float32)\n",
    "    for iii in range(0,dim[0]):\n",
    "        index = np_argmax(redIMG[iii,:])\n",
    "        if index != 0:\n",
    "            maxima[iii] = index\n",
    "    return maxima\n",
    "\n",
    "def processing(redIMG):\n",
    "    #gaussian blurr\n",
    "    redIMG = gaussian_filter(redIMG)\n",
    "    #threshold image\n",
    "    threshold = 0.2#*np_max(redIMG)\n",
    "    thresholded = np_multiply(redIMG,redIMG>threshold)\n",
    "    #find maxima with gaussian function (fit)\n",
    "#    maxima = find_maxima_gauss(thresholded)\n",
    "    maxima = find_maxima_peak(thresholded)\n",
    "    #remove outliners\n",
    "    dim = np_shape(redIMG)\n",
    "    window = dim[1]//10 #max horizontal step\n",
    "    w=20 #window size\n",
    "    for p in range(len(maxima)-w):\n",
    "        av = np_nanmean(maxima[p:p+w]) #average position inside window\n",
    "        if (maxima[p+w//2] - av) > window:\n",
    "            maxima[p+w//2] = np_nan\n",
    "    return maxima\n",
    "\n",
    "def clip0(img):\n",
    "    return np_maximum(img,0)\n",
    "\n",
    "def scale(img):\n",
    "    maxi = np_max(img)\n",
    "    mini = np_min(img)\n",
    "    return (img-mini)/(maxi-mini)"
   ]
  },
  {
   "cell_type": "code",
   "execution_count": 28,
   "id": "477083ec",
   "metadata": {},
   "outputs": [
    {
     "data": {
      "image/png": "[encoded data removed]",
      "text/plain": [
       "<Figure size 432x288 with 2 Axes>"
      ]
     },
     "metadata": {
      "needs_background": "light"
     },
     "output_type": "display_data"
    }
   ],
   "source": [
    "np_sum(gaussian2D)\n",
    "plt.imshow( gaussian2D )\n",
    "plt.colorbar()\n",
    "plt.show()"
   ]
  },
  {
   "cell_type": "code",
   "execution_count": null,
   "id": "b2a2a911",
   "metadata": {},
   "outputs": [],
   "source": []
  },
  {
   "cell_type": "code",
   "execution_count": 26,
   "id": "69984909",
   "metadata": {},
   "outputs": [
    {
     "data": {
      "text/plain": [
       "<matplotlib.colorbar.Colorbar at 0x29c51a0e7c0>"
      ]
     },
     "execution_count": 26,
     "metadata": {},
     "output_type": "execute_result"
    },
    {
     "data": {
      "image/png": "[encoded data removed]",
      "text/plain": [
       "<Figure size 432x288 with 2 Axes>"
      ]
     },
     "metadata": {
      "needs_background": "light"
     },
     "output_type": "display_data"
    }
   ],
   "source": [
    "plt.imshow(redIMG>0.2)\n",
    "plt.colorbar()"
   ]
  },
  {
   "cell_type": "code",
   "execution_count": 33,
   "id": "f525924a",
   "metadata": {},
   "outputs": [
    {
     "data": {
      "text/plain": [
       "array([   0,    1,    2, ..., 1933, 1934, 1935])"
      ]
     },
     "execution_count": 33,
     "metadata": {},
     "output_type": "execute_result"
    }
   ],
   "source": [
    "np_arange(np_size(maxima))"
   ]
  },
  {
   "cell_type": "code",
   "execution_count": null,
   "id": "6533ce5f",
   "metadata": {},
   "outputs": [],
   "source": []
  },
  {
   "cell_type": "code",
   "execution_count": 29,
   "id": "622a4f78",
   "metadata": {},
   "outputs": [
    {
     "name": "stderr",
     "output_type": "stream",
     "text": [
      "<ipython-input-27-453b5043b162>:31: RuntimeWarning: Mean of empty slice\n",
      "  av = np_nanmean(maxima[p:p+w]) #average position inside window\n"
     ]
    }
   ],
   "source": [
    "IMG = plt.imread('./scan_images/img_r_036.jpg')\n",
    "redIMG = scale(clip0(IMG[:,:,0] - (IMG[:,:,1]+IMG[:,:,2])/2))\n",
    "maxima = processing(redIMG)"
   ]
  },
  {
   "cell_type": "code",
   "execution_count": 35,
   "id": "907e62de",
   "metadata": {},
   "outputs": [
    {
     "data": {
      "text/plain": [
       "[<matplotlib.lines.Line2D at 0x29c521371c0>]"
      ]
     },
     "execution_count": 35,
     "metadata": {},
     "output_type": "execute_result"
    },
    {
     "data": {
      "image/png": "[encoded data removed]",
      "text/plain": [
       "<Figure size 432x288 with 1 Axes>"
      ]
     },
     "metadata": {
      "needs_background": "light"
     },
     "output_type": "display_data"
    }
   ],
   "source": [
    "plt.plot(maxima,-np_arange(np_size(maxima)))"
   ]
  },
  {
   "cell_type": "code",
   "execution_count": null,
   "id": "5fef394f",
   "metadata": {},
   "outputs": [],
   "source": []
  }
 ],
 "metadata": {
  "kernelspec": {
   "display_name": "Python 3",
   "language": "python",
   "name": "python3"
  },
  "language_info": {
   "codemirror_mode": {
    "name": "ipython",
    "version": 3
   },
   "file_extension": ".py",
   "mimetype": "text/x-python",
   "name": "python",
   "nbconvert_exporter": "python",
   "pygments_lexer": "ipython3",
   "version": "3.8.8"
  }
 },
 "nbformat": 4,
 "nbformat_minor": 5
}
